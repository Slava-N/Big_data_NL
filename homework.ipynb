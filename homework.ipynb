{
 "cells": [
  {
   "cell_type": "markdown",
   "metadata": {},
   "source": [
    "# Пример реализации функций map и reduce на языке python\n",
    "\n"
   ]
  },
  {
   "cell_type": "markdown",
   "metadata": {},
   "source": [
    "##### пример задача wordcount.\n",
    "посчитаем частоты слов в песенке в лесу родилась елочка при помощи map-reduce"
   ]
  },
  {
   "cell_type": "code",
   "execution_count": 18,
   "metadata": {
    "collapsed": true
   },
   "outputs": [],
   "source": [
    "text = \"\"\"\n",
    "В лесу родилась ёлочка,\n",
    "В лесу она росла.\n",
    "Зимой и летом стройная,\n",
    "Зелёная была.\n",
    "Метель ей пела песенку:\n",
    "Спи, ёлочка, бай-бай!\n",
    "Мороз снежком укутывал:\n",
    "Смотри, не замерзай!\n",
    "Трусишка зайка серенький\n",
    "Под ёлочкой скакал.\n",
    "Порою волк, сердитый волк,\n",
    "Рысцою пробегал.\n",
    "Чу! Снег по лесу частому\n",
    "Под полозом скрипит.\n",
    "Лошадка мохноногая\n",
    "Торопится, бежит.\n",
    "Везёт лошадка дровеньки,\n",
    "На дровнях мужичок.\n",
    "Срубил он нашу ёлочку\n",
    "Под самый корешок.\n",
    "Теперь ты здесь, нарядная,\n",
    "На праздник к нам пришла\n",
    "И много, много радости\n",
    "Детишкам принесла.\n",
    "\"\"\""
   ]
  },
  {
   "cell_type": "markdown",
   "metadata": {},
   "source": [
    "###### Служебная функция  для разбивки текста на строки и выделения в строках слов"
   ]
  },
  {
   "cell_type": "code",
   "execution_count": 44,
   "metadata": {
    "collapsed": true
   },
   "outputs": [],
   "source": [
    "import re\n",
    "def generate_lines(text):\n",
    "    word_re = re.compile(r\"[а-яё]+\")\n",
    "    lines = text.strip().lower().split(\"\\n\")\n",
    "    result = []\n",
    "    for line in lines:\n",
    "        result.append(word_re.findall(line))\n",
    "    return result"
   ]
  },
  {
   "cell_type": "code",
   "execution_count": 45,
   "metadata": {
    "collapsed": false
   },
   "outputs": [
    {
     "name": "stdout",
     "output_type": "stream",
     "text": [
      "[['в', 'лесу', 'родилась', 'ёлочка'], ['в', 'лесу', 'она', 'росла'], ['зимой', 'и', 'летом', 'стройная'], ['зелёная', 'была'], ['метель', 'ей', 'пела', 'песенку'], ['спи', 'ёлочка', 'бай', 'бай'], ['мороз', 'снежком', 'укутывал'], ['смотри', 'не', 'замерзай'], ['трусишка', 'зайка', 'серенький'], ['под', 'ёлочкой', 'скакал'], ['порою', 'волк', 'сердитый', 'волк'], ['рысцою', 'пробегал'], ['чу', 'снег', 'по', 'лесу', 'частому'], ['под', 'полозом', 'скрипит'], ['лошадка', 'мохноногая'], ['торопится', 'бежит'], ['везёт', 'лошадка', 'дровеньки'], ['на', 'дровнях', 'мужичок'], ['срубил', 'он', 'нашу', 'ёлочку'], ['под', 'самый', 'корешок'], ['теперь', 'ты', 'здесь', 'нарядная'], ['на', 'праздник', 'к', 'нам', 'пришла'], ['и', 'много', 'много', 'радости'], ['детишкам', 'принесла']]\n"
     ]
    }
   ],
   "source": [
    "print(generate_lines(text))"
   ]
  },
  {
   "cell_type": "markdown",
   "metadata": {},
   "source": [
    "#### Эмуляция hadoop"
   ]
  },
  {
   "cell_type": "markdown",
   "metadata": {},
   "source": [
    "###### !!! внимание !!!\n",
    "Эта функция эмулирует запуск mapreduce. Она предназначена только для целей отладки и демонстрации парадигмы MapReduce. На реальных проектах работа этой функции будет заменена целым стеком программного обеспечения - hadoop.\n",
    "\n",
    "\n",
    "Про hadoop можно почитать тут: https://habrahabr.ru/company/dca/blog/268277/"
   ]
  },
  {
   "cell_type": "code",
   "execution_count": 48,
   "metadata": {
    "collapsed": true
   },
   "outputs": [],
   "source": [
    "from collections import defaultdict\n",
    "def run_mapreduce(input, map_fnc, reduce_fnc):\n",
    "    map_result = defaultdict(lambda: [])\n",
    "    for obj in input:\n",
    "        for key, value in map_fnc(obj):\n",
    "            map_result[key].append(value)\n",
    "    \n",
    "    reduce_result = []\n",
    "    for key in map_result:\n",
    "        for key, value in reduce_fnc(key, map_result[key]):\n",
    "            reduce_result.append((key, value))\n",
    "    return reduce_result"
   ]
  },
  {
   "cell_type": "markdown",
   "metadata": {},
   "source": [
    "#### функции map и reduce для реализации word_count:"
   ]
  },
  {
   "cell_type": "code",
   "execution_count": 49,
   "metadata": {
    "collapsed": true
   },
   "outputs": [],
   "source": [
    "def map_wordcount(line):\n",
    "    for word in line:\n",
    "        yield(word, 1)"
   ]
  },
  {
   "cell_type": "code",
   "execution_count": 50,
   "metadata": {
    "collapsed": true
   },
   "outputs": [],
   "source": [
    "def reduce_wordcount(word, counts):\n",
    "    yield word, sum(counts)"
   ]
  },
  {
   "cell_type": "markdown",
   "metadata": {},
   "source": [
    "#### Запустим наш эмулятор mapreduce и распечатаем 10 самых популярных слова в сортировке по встречаемости"
   ]
  },
  {
   "cell_type": "code",
   "execution_count": 51,
   "metadata": {
    "collapsed": false
   },
   "outputs": [
    {
     "name": "stdout",
     "output_type": "stream",
     "text": [
      "лесу 3\n",
      "под 3\n",
      "в 2\n",
      "ёлочка 2\n",
      "и 2\n",
      "бай 2\n",
      "волк 2\n",
      "лошадка 2\n",
      "на 2\n",
      "много 2\n"
     ]
    }
   ],
   "source": [
    "lines = generate_lines(text)\n",
    "result = run_mapreduce(lines, map_wordcount, reduce_wordcount)\n",
    "\n",
    "for key, value in sorted(result, key=lambda x: -x[1])[:10]:\n",
    "    print(key, value)"
   ]
  },
  {
   "cell_type": "markdown",
   "metadata": {},
   "source": [
    "# Домашнее задание"
   ]
  },
  {
   "cell_type": "markdown",
   "metadata": {},
   "source": [
    "в рамках домашнего задания необходимо проанализировать 1-й том произведения толстого \"война и мир\" при помощи mapreduce."
   ]
  },
  {
   "cell_type": "markdown",
   "metadata": {},
   "source": [
    "##### скачаем текст"
   ]
  },
  {
   "cell_type": "code",
   "execution_count": 53,
   "metadata": {
    "collapsed": false
   },
   "outputs": [
    {
     "name": "stdout",
     "output_type": "stream",
     "text": [
      "Война и мир. Книга 1\r\n",
      "Лев Николаевич Толстой\r\n",
      "\r\n",
      "\r\n",
      "Война и мир #1\r\n",
      "В книгу вошли первый и второй тома романа «Война и мир» – одного из самых знаменитых произведений литературы XIX века.\r\n",
      "\r\n",
      "\r\n",
      "\r\n",
      "\r\n",
      "\r\n",
      "\r\n",
      "Том первый\r\n",
      "\r\n",
      "\r\n",
      "\r\n",
      "\r\n",
      "\r\n",
      "Часть первая\r\n",
      "\r\n",
      "\r\n",
      "\r\n",
      "\r\n",
      "\r\n",
      "I\r\n",
      "\r\n",
      "\r\n",
      "– Eh bien, mon prince. G?nes et Lucques ne sont plus que des apanages, des поместья, de la famille Buonaparte. Non, je vous prеviens que si vous ne me dites pas que nous avons la guerre, si vous vous permettez encore de pallier toutes les infamies, toutes les atrocitеs de cet Antichrist (ma parole, j’y crois) – je ne vous conna\n"
     ]
    }
   ],
   "source": [
    "import urllib.request\n",
    "text_1=urllib.request.urlopen(\"http://apetrov.me/assets/war_peace_1.txt\").read().decode()\n",
    "print(text_1[:580])"
   ]
  },
  {
   "cell_type": "markdown",
   "metadata": {},
   "source": [
    "#### Задание №1\n",
    "Найти частоты 5 самых популярных слов в тексте"
   ]
  },
  {
   "cell_type": "code",
   "execution_count": 57,
   "metadata": {
    "collapsed": false
   },
   "outputs": [
    {
     "name": "stdout",
     "output_type": "stream",
     "text": [
      "и 10829\n",
      "в 5393\n",
      "не 4556\n",
      "что 4067\n",
      "он 3867\n",
      "на 3402\n",
      "с 3143\n",
      "как 2208\n",
      "я 2089\n",
      "его 1976\n",
      "к 1836\n",
      "то 1689\n",
      "она 1591\n",
      "все 1408\n",
      "но 1332\n",
      "это 1327\n",
      "было 1168\n",
      "сказал 1149\n",
      "а 1137\n",
      "так 1107\n",
      "князь 1054\n",
      "за 1044\n",
      "ему 940\n",
      "по 922\n",
      "ее 921\n",
      "из 890\n",
      "о 863\n",
      "же 835\n",
      "был 811\n",
      "от 807\n"
     ]
    }
   ],
   "source": [
    "lines_1 = generate_lines(text_1)\n",
    "result_1 = run_mapreduce(lines_1, map_wordcount, reduce_wordcount)\n",
    "for key, value in sorted(result_1, key=lambda x: -x[1])[:30]:\n",
    "    print(key, value)\n",
    "    "
   ]
  },
  {
   "cell_type": "code",
   "execution_count": 127,
   "metadata": {
    "collapsed": false
   },
   "outputs": [
    {
     "name": "stdout",
     "output_type": "stream",
     "text": [
      "[('и', 10829), ('в', 5393), ('не', 4556), ('что', 4067), ('он', 3867), ('на', 3402), ('с', 3143), ('как', 2208), ('я', 2089), ('его', 1976), ('к', 1836), ('то', 1689), ('она', 1591), ('все', 1408), ('но', 1332), ('это', 1327), ('было', 1168), ('сказал', 1149), ('а', 1137), ('так', 1107)]\n",
      "и 10829\n",
      "в 5393\n",
      "не 4556\n",
      "что 4067\n",
      "он 3867\n",
      "на 3402\n",
      "с 3143\n",
      "как 2208\n",
      "я 2089\n",
      "его 1976\n",
      "к 1836\n",
      "то 1689\n",
      "она 1591\n",
      "все 1408\n",
      "но 1332\n",
      "это 1327\n",
      "было 1168\n",
      "сказал 1149\n",
      "а 1137\n",
      "так 1107\n",
      "князь 1054\n",
      "за 1044\n",
      "ему 940\n",
      "по 922\n",
      "ее 921\n",
      "из 890\n",
      "о 863\n",
      "же 835\n",
      "был 811\n",
      "от 807\n"
     ]
    }
   ],
   "source": [
    "lines_2 = generate_lines(text_1)\n",
    "result_2 = run_mapreduce(lines_2, map_wordcount, reduce_wordcount)\n",
    "# print(sorted(result_2, key=lambda x: -x[1]))\n",
    "sorted_result_2 = sorted(result_2, key=lambda x: -x[1])\n",
    "sorted_result_2_short = sorted_result_2[:20]\n",
    "print(sorted_result_2_short)\n",
    "for key, value in sorted_result_2[:30]:\n",
    "    print(key, value)\n",
    "    "
   ]
  },
  {
   "cell_type": "markdown",
   "metadata": {},
   "source": [
    "#### Задание №2\n",
    "Найти сколько раз в тексте упоминаются фамилии безухов, ростова, болконский\n",
    "\n",
    "Подсказка: необходимо модифицировать функцию map_wordcount для того чтобы она учитывала только нужные нам слова.\n",
    "\n",
    "###### Пример:"
   ]
  },
  {
   "cell_type": "code",
   "execution_count": 67,
   "metadata": {
    "collapsed": false
   },
   "outputs": [
    {
     "name": "stdout",
     "output_type": "stream",
     "text": [
      "таня 1\n",
      "мячик 1\n"
     ]
    }
   ],
   "source": [
    "leave_only = ['таня', 'мячик']\n",
    "text = ['наша', 'таня', 'громко', 'плачет', 'уронила','в', 'речку', 'мячик']\n",
    "\n",
    "for word in text:\n",
    "    if word in leave_only:\n",
    "        print(word, 1)\n",
    "    "
   ]
  },
  {
   "cell_type": "code",
   "execution_count": 72,
   "metadata": {
    "collapsed": false
   },
   "outputs": [
    {
     "name": "stdout",
     "output_type": "stream",
     "text": [
      "болконский 70\n",
      "безухов 14\n",
      "ростова 120\n"
     ]
    }
   ],
   "source": [
    "\n",
    "\n",
    "def map_wordcount_filter(line):\n",
    "    second_names = ['безухов', 'ростова','болконский']\n",
    "    for word in line:\n",
    "        if word in second_names:\n",
    "            yield(word, 1)\n",
    "\n",
    "lines_3 = generate_lines(text_1)\n",
    "result_3 = run_mapreduce(lines_3, map_wordcount_filter, reduce_wordcount)\n",
    "for key, value in result_3:\n",
    "    print(key, value)"
   ]
  },
  {
   "cell_type": "markdown",
   "metadata": {},
   "source": [
    "#### Задание №3 (по желанию)"
   ]
  },
  {
   "cell_type": "markdown",
   "metadata": {},
   "source": [
    "Это задание стоит выполнять только если у вас уже был опыт программирования на python. \n",
    "\n",
    "\n",
    "1) прочитать статью \"закон ципфа\" на wikipedia\n",
    "https://ru.wikipedia.org/wiki/%D0%97%D0%B0%D0%BA%D0%BE%D0%BD_%D0%A6%D0%B8%D0%BF%D1%84%D0%B0\n",
    "    \n",
    "2) Построить график распределения частот слов в 1-м томе \"войны и мир\" аналогичный приведенному в статье.\n",
    "Для визуализации графика воспользоваться библиотекой matplotlib"
   ]
  },
  {
   "cell_type": "code",
   "execution_count": 128,
   "metadata": {
    "collapsed": false
   },
   "outputs": [
    {
     "data": {
      "image/png": "[encoded data removed]",
      "text/plain": [
       "<matplotlib.figure.Figure at 0x1a8b0a2d710>"
      ]
     },
     "metadata": {},
     "output_type": "display_data"
    }
   ],
   "source": [
    "import matplotlib.pyplot as plt\n",
    "# %matplotlib inline\n",
    "\n",
    "\n",
    "words = list(zip(*sorted_result_2_short))[0]\n",
    "counter = list(zip(*sorted_result_2_short))[1]\n",
    "# print(words, counter)\n",
    "\n",
    "x=range(len(words))\n",
    "plot_1=plt.plot(x,counter)\n",
    "plt.xticks(x, words, rotation='vertical')\n",
    "plt.show()"
   ]
  },
  {
   "cell_type": "markdown",
   "metadata": {},
   "source": [
    "<strong>\n",
    "<ul>\n",
    "<li>а есть более оптимальные варианты написания кода визуализации?\n",
    "<li>не нашел в regex возможность ограничить минимальный размер слов - как это можно сделать?\n",
    "<li>если есть еще что-то, что можно было бы более красиво отразить - пожалуйста, напишите.\n",
    "</ul>\n",
    "</strong>"
   ]
  }
 ],
 "metadata": {
  "kernelspec": {
   "display_name": "Python 3",
   "language": "python",
   "name": "python3"
  },
  "language_info": {
   "codemirror_mode": {
    "name": "ipython",
    "version": 3
   },
   "file_extension": ".py",
   "mimetype": "text/x-python",
   "name": "python",
   "nbconvert_exporter": "python",
   "pygments_lexer": "ipython3",
   "version": "3.6.0"
  }
 },
 "nbformat": 4,
 "nbformat_minor": 2
}
